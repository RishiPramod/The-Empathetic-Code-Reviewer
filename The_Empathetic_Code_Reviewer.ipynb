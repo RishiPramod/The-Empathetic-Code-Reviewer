{
  "nbformat": 4,
  "nbformat_minor": 0,
  "metadata": {
    "colab": {
      "provenance": [],
      "gpuType": "T4"
    },
    "kernelspec": {
      "name": "python3",
      "display_name": "Python 3"
    },
    "language_info": {
      "name": "python"
    },
    "accelerator": "GPU"
  },
  "cells": [
    {
      "cell_type": "markdown",
      "source": [
        "1. Environment Setup in Colab"
      ],
      "metadata": {
        "id": "IZdzjGfVqkkO"
      }
    },
    {
      "cell_type": "code",
      "source": [
        "!pip install --quiet google-generativeai black radon python-dotenv"
      ],
      "metadata": {
        "id": "u2NMvG1Byexk"
      },
      "execution_count": 1,
      "outputs": []
    },
    {
      "cell_type": "markdown",
      "source": [
        "Set API Keys Securely"
      ],
      "metadata": {
        "id": "B9uEOe9Hq87y"
      }
    },
    {
      "cell_type": "code",
      "source": [
        "from google.colab import userdata\n",
        "import google.generativeai as genai\n",
        "import os, json, re, textwrap, datetime\n",
        "from pathlib import Path\n",
        "\n",
        "# Load Gemini API key from Colab secrets (must match name you saved)\n",
        "GEMINI_API_KEY = userdata.get('GOOGLE_API_KEY')\n",
        "if not GEMINI_API_KEY:\n",
        "    raise ValueError(\"Gemini API key not found in Colab secrets. Add it as GOOGLE_API_KEY.\")\n",
        "\n",
        "# Configure Gemini\n",
        "genai.configure(api_key=GEMINI_API_KEY)\n",
        "\n",
        "# Model selection\n",
        "GEMINI_MODEL = \"gemini-1.5-flash\"\n",
        "\n",
        "# Output directory\n",
        "OUT_DIR = Path(\"mission1_outputs\")\n",
        "OUT_DIR.mkdir(parents=True, exist_ok=True)\n",
        "REPORT_PATH = OUT_DIR / \"report.md\"\n",
        "\n",
        "print(\"Gemini model:\", GEMINI_MODEL)"
      ],
      "metadata": {
        "colab": {
          "base_uri": "https://localhost:8080/"
        },
        "id": "2OD2mroqq2AK",
        "outputId": "299d379d-9114-4d82-e3de-156dccb2eef0"
      },
      "execution_count": 2,
      "outputs": [
        {
          "output_type": "stream",
          "name": "stdout",
          "text": [
            "Gemini model: gemini-1.5-flash\n"
          ]
        }
      ]
    },
    {
      "cell_type": "markdown",
      "source": [
        "Helpers for language & severity detection"
      ],
      "metadata": {
        "id": "FUr1KtaAs1-e"
      }
    },
    {
      "cell_type": "code",
      "source": [
        "try:\n",
        "    import black\n",
        "except Exception:\n",
        "    black = None\n",
        "\n",
        "try:\n",
        "    from radon.complexity import cc_visit\n",
        "except Exception:\n",
        "    cc_visit = None\n",
        "\n",
        "def detect_language_from_code(code: str) -> str:\n",
        "    c = code.strip().lower()\n",
        "    if \"def \" in c or \"import \" in c and \":\" in c:\n",
        "        return \"Python\"\n",
        "    if \"#include\" in c or \"int main(\" in c:\n",
        "        return \"C/C++\"\n",
        "    if \"public class\" in c or \"System.out.println\" in c:\n",
        "        return \"Java\"\n",
        "    if \"function\" in c and \"console.log\" in c or \"=>\":\n",
        "        return \"JavaScript\"\n",
        "    return \"Unknown\"\n",
        "\n",
        "NEGATIVE_WORDS = [\"inefficient\",\"bad\",\"poor\",\"wrong\",\"redundant\",\"bug\",\"smell\"]\n",
        "\n",
        "def estimate_severity(comment: str) -> str:\n",
        "    c = comment.lower()\n",
        "    hits = sum(w in c for w in NEGATIVE_WORDS)\n",
        "    if any(k in c for k in [\"security\",\"vulnerability\",\"crash\"]):\n",
        "        return \"critical\"\n",
        "    if hits >= 2 or \"inefficient\" in c:\n",
        "        return \"major\"\n",
        "    return \"minor\"\n",
        "\n",
        "def optional_code_format(code_text: str, lang=\"python\") -> str:\n",
        "    if not code_text.strip():\n",
        "        return code_text\n",
        "    if lang.lower() == \"python\" and black:\n",
        "        try:\n",
        "            return black.format_str(code_text, mode=black.Mode())\n",
        "        except Exception:\n",
        "            return code_text\n",
        "    return code_text\n",
        "\n",
        "def compute_complexity_python(code: str) -> float | None:\n",
        "    if not cc_visit:\n",
        "        return None\n",
        "    try:\n",
        "        blocks = cc_visit(code)\n",
        "        if not blocks:\n",
        "            return 0.0\n",
        "        return sum(b.complexity for b in blocks) / len(blocks)\n",
        "    except Exception:\n",
        "        return None\n"
      ],
      "metadata": {
        "id": "h5yJAJMOsl5w"
      },
      "execution_count": 3,
      "outputs": []
    },
    {
      "cell_type": "markdown",
      "source": [
        "Gemini call function"
      ],
      "metadata": {
        "id": "dc2RkLhltoKG"
      }
    },
    {
      "cell_type": "code",
      "source": [
        "def call_llm_gemini(code_snippet: str, review_comment: str, language: str, severity: str) -> dict:\n",
        "    SYSTEM_PROMPT = \"\"\"You are a senior software engineer and patient mentor.\n",
        "    Rewrite blunt code review comments into empathetic, constructive, and educational guidance.\n",
        "    Always include: Positive Rephrasing, The 'Why' (principle), and a concrete Suggested Improvement code snippet.\n",
        "    Respond in JSON format with keys: positive_rephrasing, why, improved_code.\"\"\"\n",
        "\n",
        "    USER_PROMPT_TEMPLATE = f\"\"\"\n",
        "    Programming language: {language}\n",
        "    Severity: {severity}\n",
        "\n",
        "    Code:\n",
        "    {code_snippet}\n",
        "\n",
        "    Original Review Comment:\n",
        "    \"{review_comment}\"\n",
        "\n",
        "    Respond with:\n",
        "    {{\n",
        "      \"positive_rephrasing\": \"...\",\n",
        "      \"why\": \"...\",\n",
        "      \"improved_code\": \"...\"\n",
        "    }}\n",
        "    \"\"\"\n",
        "\n",
        "    response = genai.GenerativeModel(GEMINI_MODEL).generate_content(\n",
        "        [SYSTEM_PROMPT, USER_PROMPT_TEMPLATE]\n",
        "    )\n",
        "\n",
        "    match = re.search(r\"\\{.*\\}\", response.text, flags=re.DOTALL)\n",
        "    try:\n",
        "        data = json.loads(match.group(0) if match else response.text)\n",
        "    except:\n",
        "        data = {\n",
        "            \"positive_rephrasing\": f\"Thanks for your work! Suggest refining: {review_comment}\",\n",
        "            \"why\": \"Improves clarity and follows best practices.\",\n",
        "            \"improved_code\": code_snippet,\n",
        "        }\n",
        "    return data\n"
      ],
      "metadata": {
        "id": "z7yc5gwKtqsA"
      },
      "execution_count": 4,
      "outputs": []
    },
    {
      "cell_type": "markdown",
      "source": [
        "Markdown formatting"
      ],
      "metadata": {
        "id": "dcdPMd3mtxYm"
      }
    },
    {
      "cell_type": "code",
      "source": [
        "STYLE_LINKS = {\n",
        "    \"Python\": [\n",
        "        (\"PEP 8: Function & variable names\", \"https://peps.python.org/pep-0008/#function-and-variable-names\"),\n",
        "        (\"Python Typing\", \"https://docs.python.org/3/library/typing.html\"),\n",
        "        (\"List Comprehensions\", \"https://docs.python.org/3/tutorial/datastructures.html#list-comprehensions\"),\n",
        "    ]\n",
        "}\n",
        "\n",
        "def format_section(original_comment: str, result: dict, language: str) -> str:\n",
        "    imp_code = result.get(\"improved_code\",\"\").strip()\n",
        "    if detect_language_from_code(imp_code) == \"Python\":\n",
        "        imp_code = optional_code_format(imp_code, \"python\")\n",
        "\n",
        "    section = []\n",
        "    section.append(f'### Analysis of Comment: \"{original_comment}\"\\n')\n",
        "    section.append(f\"* **Positive Rephrasing:** {result.get('positive_rephrasing','')}\")\n",
        "    section.append(f\"* **The 'Why':** {result.get('why','')}\")\n",
        "    section.append(\"* **Suggested Improvement:**\")\n",
        "    section.append(f\"```{language.lower() if language!='Unknown' else ''}\")\n",
        "    section.append(imp_code if imp_code else \"# (No change needed)\")\n",
        "    section.append(\"```\")\n",
        "\n",
        "    links = STYLE_LINKS.get(language, [])\n",
        "    if links:\n",
        "        section.append(\"\\n*Resources:*\")\n",
        "        for title, url in links:\n",
        "            section.append(f\"- {title}: {url}\")\n",
        "\n",
        "    return \"\\n\".join(section) + \"\\n\"\n",
        "\n",
        "def format_summary(num_comments: int, language: str, complexity: float | None) -> str:\n",
        "    bullets = [\n",
        "        f\"- Addressed **{num_comments}** comment(s).\",\n",
        "        f\"- Detected language: **{language}**.\"\n",
        "    ]\n",
        "    if complexity is not None:\n",
        "        bullets.append(f\"- Avg cyclomatic complexity: **{complexity:.2f}**.\")\n",
        "    bullets.append(\"- Code readability and maintainability improved!\")\n",
        "    return \"## Overall Summary\\n\\n\" + \"\\n\".join(bullets) + \"\\n\"\n"
      ],
      "metadata": {
        "id": "okRUOnSpt1zV"
      },
      "execution_count": 5,
      "outputs": []
    },
    {
      "cell_type": "markdown",
      "source": [
        "Report generator"
      ],
      "metadata": {
        "id": "7nH_jv0buBB-"
      }
    },
    {
      "cell_type": "code",
      "source": [
        "def generate_report(code_snippet: str, review_comments: list[str]) -> str:\n",
        "    language = detect_language_from_code(code_snippet)\n",
        "    severity_list = [estimate_severity(c) for c in review_comments]\n",
        "    complexity = compute_complexity_python(code_snippet) if language == \"Python\" else None\n",
        "\n",
        "    md_parts = [f\"# Empathetic Code Review Report\\n\\n*Generated: {datetime.datetime.now().isoformat(timespec='seconds')}*\",\n",
        "                f\"\\n**Detected Language:** {language}\\n\"]\n",
        "\n",
        "    for comment, sev in zip(review_comments, severity_list):\n",
        "        result = call_llm_gemini(code_snippet, comment, language, sev)\n",
        "        md_parts.append(format_section(comment, result, language))\n",
        "\n",
        "    md_parts.append(format_summary(len(review_comments), language, complexity))\n",
        "    return \"\\n\\n\".join(md_parts)\n",
        "\n",
        "def save_report(markdown_text: str, path: Path = REPORT_PATH):\n",
        "    path.write_text(markdown_text, encoding=\"utf-8\")\n",
        "    print(f\"Saved report → {path.resolve()}\")\n"
      ],
      "metadata": {
        "id": "0stlFWdnuBtV"
      },
      "execution_count": 6,
      "outputs": []
    },
    {
      "cell_type": "markdown",
      "source": [
        "Create sample JSONs"
      ],
      "metadata": {
        "id": "1jh_TklFuHWs"
      }
    },
    {
      "cell_type": "code",
      "source": [
        "sample_input = {\n",
        "    \"code_snippet\": \"def get_active_users(users):\\n    results = []\\n    for u in users:\\n        if u.is_active == True and u.profile_complete == True:\\n            results.append(u)\\n    return results\\n\",\n",
        "    \"review_comments\": [\n",
        "        \"This is inefficient. Don't loop twice conceptually.\",\n",
        "        \"Variable 'u' is a bad name.\",\n",
        "        \"Boolean comparison '== True' is redundant.\"\n",
        "    ]\n",
        "}\n",
        "IN_JSON = OUT_DIR / \"input_example.json\"\n",
        "IN_JSON.write_text(json.dumps(sample_input, indent=2), encoding=\"utf-8\")\n",
        "\n",
        "sample_input_2 = {\n",
        "    \"code_snippet\": \"def add_numbers(a,b):\\n  return a+b\\n\",\n",
        "    \"review_comments\": [\n",
        "        \"Function name doesn't follow snake_case convention.\",\n",
        "        \"No type hints provided.\",\n",
        "        \"No docstring for function.\"\n",
        "    ]\n",
        "}\n",
        "IN_JSON_2 = OUT_DIR / \"input_example_2.json\"\n",
        "IN_JSON_2.write_text(json.dumps(sample_input_2, indent=2), encoding=\"utf-8\")\n",
        "\n",
        "print(\"Sample JSONs created in:\", OUT_DIR.resolve())\n"
      ],
      "metadata": {
        "colab": {
          "base_uri": "https://localhost:8080/"
        },
        "id": "Rl0Q5eLjuKfe",
        "outputId": "0f5219db-e663-45b1-fd06-e3d452d763b1"
      },
      "execution_count": 7,
      "outputs": [
        {
          "output_type": "stream",
          "name": "stdout",
          "text": [
            "Sample JSONs created in: /content/mission1_outputs\n"
          ]
        }
      ]
    },
    {
      "cell_type": "markdown",
      "source": [
        "Load JSON to test"
      ],
      "metadata": {
        "id": "4JqqUJSPuhBM"
      }
    },
    {
      "cell_type": "code",
      "source": [
        "from google.colab import files\n",
        "\n",
        "def get_input_data():\n",
        "    print(\"Choose input method:\")\n",
        "    print(\"1 → Upload JSON file\")\n",
        "    print(\"2 → Enter code + comments manually\")\n",
        "    choice = input(\"Enter 1 or 2: \").strip()\n",
        "\n",
        "    if choice == \"1\":\n",
        "        uploaded = files.upload()\n",
        "        for fn in uploaded.keys():\n",
        "            with open(fn, \"r\", encoding=\"utf-8\") as f:\n",
        "                return json.load(f)\n",
        "\n",
        "    elif choice == \"2\":\n",
        "        print(\"Paste or type your code snippet. End input with a line containing only END:\")\n",
        "        code_lines = []\n",
        "        while True:\n",
        "            line = input()\n",
        "            if line.strip().upper() == \"END\":\n",
        "                break\n",
        "            code_lines.append(line)\n",
        "        code_snippet = \"\\n\".join(code_lines)\n",
        "\n",
        "        print(\"Now enter review comments (one per line). End input with END:\")\n",
        "        comments = []\n",
        "        while True:\n",
        "            comment = input()\n",
        "            if comment.strip().upper() == \"END\":\n",
        "                break\n",
        "            comments.append(comment)\n",
        "\n",
        "        return {\"code_snippet\": code_snippet, \"review_comments\": comments}\n",
        "\n",
        "    else:\n",
        "        print(\"Invalid choice — defaulting to sample JSON.\")\n",
        "        return json.loads(IN_JSON.read_text())\n",
        "\n",
        "# Get the data\n",
        "data = get_input_data()\n",
        "code_snippet = data[\"code_snippet\"]\n",
        "review_comments = data[\"review_comments\"]\n",
        "\n",
        "print(f\"Loaded {len(review_comments)} review comment(s).\")\n"
      ],
      "metadata": {
        "colab": {
          "base_uri": "https://localhost:8080/",
          "height": 160
        },
        "id": "d6W1etzWuiDl",
        "outputId": "ba786419-dc56-436e-8678-55f906a2a211"
      },
      "execution_count": 12,
      "outputs": [
        {
          "name": "stdout",
          "output_type": "stream",
          "text": [
            "Choose input method:\n",
            "1 → Upload JSON file\n",
            "2 → Enter code + comments manually\n",
            "Enter 1 or 2: 1\n"
          ]
        },
        {
          "output_type": "display_data",
          "data": {
            "text/plain": [
              "<IPython.core.display.HTML object>"
            ],
            "text/html": [
              "\n",
              "     <input type=\"file\" id=\"files-659b38fa-8333-403e-ba61-fb3c929bdc56\" name=\"files[]\" multiple disabled\n",
              "        style=\"border:none\" />\n",
              "     <output id=\"result-659b38fa-8333-403e-ba61-fb3c929bdc56\">\n",
              "      Upload widget is only available when the cell has been executed in the\n",
              "      current browser session. Please rerun this cell to enable.\n",
              "      </output>\n",
              "      <script>// Copyright 2017 Google LLC\n",
              "//\n",
              "// Licensed under the Apache License, Version 2.0 (the \"License\");\n",
              "// you may not use this file except in compliance with the License.\n",
              "// You may obtain a copy of the License at\n",
              "//\n",
              "//      http://www.apache.org/licenses/LICENSE-2.0\n",
              "//\n",
              "// Unless required by applicable law or agreed to in writing, software\n",
              "// distributed under the License is distributed on an \"AS IS\" BASIS,\n",
              "// WITHOUT WARRANTIES OR CONDITIONS OF ANY KIND, either express or implied.\n",
              "// See the License for the specific language governing permissions and\n",
              "// limitations under the License.\n",
              "\n",
              "/**\n",
              " * @fileoverview Helpers for google.colab Python module.\n",
              " */\n",
              "(function(scope) {\n",
              "function span(text, styleAttributes = {}) {\n",
              "  const element = document.createElement('span');\n",
              "  element.textContent = text;\n",
              "  for (const key of Object.keys(styleAttributes)) {\n",
              "    element.style[key] = styleAttributes[key];\n",
              "  }\n",
              "  return element;\n",
              "}\n",
              "\n",
              "// Max number of bytes which will be uploaded at a time.\n",
              "const MAX_PAYLOAD_SIZE = 100 * 1024;\n",
              "\n",
              "function _uploadFiles(inputId, outputId) {\n",
              "  const steps = uploadFilesStep(inputId, outputId);\n",
              "  const outputElement = document.getElementById(outputId);\n",
              "  // Cache steps on the outputElement to make it available for the next call\n",
              "  // to uploadFilesContinue from Python.\n",
              "  outputElement.steps = steps;\n",
              "\n",
              "  return _uploadFilesContinue(outputId);\n",
              "}\n",
              "\n",
              "// This is roughly an async generator (not supported in the browser yet),\n",
              "// where there are multiple asynchronous steps and the Python side is going\n",
              "// to poll for completion of each step.\n",
              "// This uses a Promise to block the python side on completion of each step,\n",
              "// then passes the result of the previous step as the input to the next step.\n",
              "function _uploadFilesContinue(outputId) {\n",
              "  const outputElement = document.getElementById(outputId);\n",
              "  const steps = outputElement.steps;\n",
              "\n",
              "  const next = steps.next(outputElement.lastPromiseValue);\n",
              "  return Promise.resolve(next.value.promise).then((value) => {\n",
              "    // Cache the last promise value to make it available to the next\n",
              "    // step of the generator.\n",
              "    outputElement.lastPromiseValue = value;\n",
              "    return next.value.response;\n",
              "  });\n",
              "}\n",
              "\n",
              "/**\n",
              " * Generator function which is called between each async step of the upload\n",
              " * process.\n",
              " * @param {string} inputId Element ID of the input file picker element.\n",
              " * @param {string} outputId Element ID of the output display.\n",
              " * @return {!Iterable<!Object>} Iterable of next steps.\n",
              " */\n",
              "function* uploadFilesStep(inputId, outputId) {\n",
              "  const inputElement = document.getElementById(inputId);\n",
              "  inputElement.disabled = false;\n",
              "\n",
              "  const outputElement = document.getElementById(outputId);\n",
              "  outputElement.innerHTML = '';\n",
              "\n",
              "  const pickedPromise = new Promise((resolve) => {\n",
              "    inputElement.addEventListener('change', (e) => {\n",
              "      resolve(e.target.files);\n",
              "    });\n",
              "  });\n",
              "\n",
              "  const cancel = document.createElement('button');\n",
              "  inputElement.parentElement.appendChild(cancel);\n",
              "  cancel.textContent = 'Cancel upload';\n",
              "  const cancelPromise = new Promise((resolve) => {\n",
              "    cancel.onclick = () => {\n",
              "      resolve(null);\n",
              "    };\n",
              "  });\n",
              "\n",
              "  // Wait for the user to pick the files.\n",
              "  const files = yield {\n",
              "    promise: Promise.race([pickedPromise, cancelPromise]),\n",
              "    response: {\n",
              "      action: 'starting',\n",
              "    }\n",
              "  };\n",
              "\n",
              "  cancel.remove();\n",
              "\n",
              "  // Disable the input element since further picks are not allowed.\n",
              "  inputElement.disabled = true;\n",
              "\n",
              "  if (!files) {\n",
              "    return {\n",
              "      response: {\n",
              "        action: 'complete',\n",
              "      }\n",
              "    };\n",
              "  }\n",
              "\n",
              "  for (const file of files) {\n",
              "    const li = document.createElement('li');\n",
              "    li.append(span(file.name, {fontWeight: 'bold'}));\n",
              "    li.append(span(\n",
              "        `(${file.type || 'n/a'}) - ${file.size} bytes, ` +\n",
              "        `last modified: ${\n",
              "            file.lastModifiedDate ? file.lastModifiedDate.toLocaleDateString() :\n",
              "                                    'n/a'} - `));\n",
              "    const percent = span('0% done');\n",
              "    li.appendChild(percent);\n",
              "\n",
              "    outputElement.appendChild(li);\n",
              "\n",
              "    const fileDataPromise = new Promise((resolve) => {\n",
              "      const reader = new FileReader();\n",
              "      reader.onload = (e) => {\n",
              "        resolve(e.target.result);\n",
              "      };\n",
              "      reader.readAsArrayBuffer(file);\n",
              "    });\n",
              "    // Wait for the data to be ready.\n",
              "    let fileData = yield {\n",
              "      promise: fileDataPromise,\n",
              "      response: {\n",
              "        action: 'continue',\n",
              "      }\n",
              "    };\n",
              "\n",
              "    // Use a chunked sending to avoid message size limits. See b/62115660.\n",
              "    let position = 0;\n",
              "    do {\n",
              "      const length = Math.min(fileData.byteLength - position, MAX_PAYLOAD_SIZE);\n",
              "      const chunk = new Uint8Array(fileData, position, length);\n",
              "      position += length;\n",
              "\n",
              "      const base64 = btoa(String.fromCharCode.apply(null, chunk));\n",
              "      yield {\n",
              "        response: {\n",
              "          action: 'append',\n",
              "          file: file.name,\n",
              "          data: base64,\n",
              "        },\n",
              "      };\n",
              "\n",
              "      let percentDone = fileData.byteLength === 0 ?\n",
              "          100 :\n",
              "          Math.round((position / fileData.byteLength) * 100);\n",
              "      percent.textContent = `${percentDone}% done`;\n",
              "\n",
              "    } while (position < fileData.byteLength);\n",
              "  }\n",
              "\n",
              "  // All done.\n",
              "  yield {\n",
              "    response: {\n",
              "      action: 'complete',\n",
              "    }\n",
              "  };\n",
              "}\n",
              "\n",
              "scope.google = scope.google || {};\n",
              "scope.google.colab = scope.google.colab || {};\n",
              "scope.google.colab._files = {\n",
              "  _uploadFiles,\n",
              "  _uploadFilesContinue,\n",
              "};\n",
              "})(self);\n",
              "</script> "
            ]
          },
          "metadata": {}
        },
        {
          "output_type": "stream",
          "name": "stdout",
          "text": [
            "Saving sample3.json to sample3.json\n",
            "Loaded 3 review comment(s).\n"
          ]
        }
      ]
    },
    {
      "cell_type": "markdown",
      "source": [
        "Generate Report"
      ],
      "metadata": {
        "id": "laT6vcPdv7VE"
      }
    },
    {
      "cell_type": "code",
      "source": [
        "report_md = generate_report(code_snippet, review_comments)\n",
        "print(report_md[:500] + (\"\\n...\\n\" if len(report_md) > 500 else \"\"))\n"
      ],
      "metadata": {
        "colab": {
          "base_uri": "https://localhost:8080/",
          "height": 280
        },
        "id": "KFwujhc9v_G3",
        "outputId": "fd58a617-f3e8-42be-ecb2-c6da759d0149"
      },
      "execution_count": 13,
      "outputs": [
        {
          "output_type": "stream",
          "name": "stdout",
          "text": [
            "# Empathetic Code Review Report\n",
            "\n",
            "*Generated: 2025-08-14T13:45:33*\n",
            "\n",
            "\n",
            "**Detected Language:** C/C++\n",
            "\n",
            "\n",
            "### Analysis of Comment: \"Consider using a range-based for loop instead of manual indexing.\"\n",
            "\n",
            "* **Positive Rephrasing:** Your `getActiveUsers` function is already working well!  Using range-based for loops can make your code even more readable and concise, enhancing maintainability and potentially improving performance slightly in some scenarios.\n",
            "* **The 'Why':** Range-based for loops provide a mor\n",
            "...\n",
            "\n"
          ]
        }
      ]
    },
    {
      "cell_type": "markdown",
      "source": [
        "Save and Download Report"
      ],
      "metadata": {
        "id": "dpqh2oCSwMsQ"
      }
    },
    {
      "cell_type": "code",
      "source": [
        "save_report(report_md, REPORT_PATH)\n",
        "\n",
        "# Optional: download the report\n",
        "from google.colab import files\n",
        "files.download(str(REPORT_PATH))"
      ],
      "metadata": {
        "colab": {
          "base_uri": "https://localhost:8080/",
          "height": 34
        },
        "id": "Qm4Bu_TVwNaa",
        "outputId": "770f2c8b-dc7c-4313-a90d-292e156c2866"
      },
      "execution_count": 14,
      "outputs": [
        {
          "output_type": "stream",
          "name": "stdout",
          "text": [
            "Saved report → /content/mission1_outputs/report.md\n"
          ]
        },
        {
          "output_type": "display_data",
          "data": {
            "text/plain": [
              "<IPython.core.display.Javascript object>"
            ],
            "application/javascript": [
              "\n",
              "    async function download(id, filename, size) {\n",
              "      if (!google.colab.kernel.accessAllowed) {\n",
              "        return;\n",
              "      }\n",
              "      const div = document.createElement('div');\n",
              "      const label = document.createElement('label');\n",
              "      label.textContent = `Downloading \"${filename}\": `;\n",
              "      div.appendChild(label);\n",
              "      const progress = document.createElement('progress');\n",
              "      progress.max = size;\n",
              "      div.appendChild(progress);\n",
              "      document.body.appendChild(div);\n",
              "\n",
              "      const buffers = [];\n",
              "      let downloaded = 0;\n",
              "\n",
              "      const channel = await google.colab.kernel.comms.open(id);\n",
              "      // Send a message to notify the kernel that we're ready.\n",
              "      channel.send({})\n",
              "\n",
              "      for await (const message of channel.messages) {\n",
              "        // Send a message to notify the kernel that we're ready.\n",
              "        channel.send({})\n",
              "        if (message.buffers) {\n",
              "          for (const buffer of message.buffers) {\n",
              "            buffers.push(buffer);\n",
              "            downloaded += buffer.byteLength;\n",
              "            progress.value = downloaded;\n",
              "          }\n",
              "        }\n",
              "      }\n",
              "      const blob = new Blob(buffers, {type: 'application/binary'});\n",
              "      const a = document.createElement('a');\n",
              "      a.href = window.URL.createObjectURL(blob);\n",
              "      a.download = filename;\n",
              "      div.appendChild(a);\n",
              "      a.click();\n",
              "      div.remove();\n",
              "    }\n",
              "  "
            ]
          },
          "metadata": {}
        },
        {
          "output_type": "display_data",
          "data": {
            "text/plain": [
              "<IPython.core.display.Javascript object>"
            ],
            "application/javascript": [
              "download(\"download_2ce42cc1-bf30-450b-b0ef-107dc768393e\", \"report.md\", 4029)"
            ]
          },
          "metadata": {}
        }
      ]
    },
    {
      "cell_type": "markdown",
      "source": [
        "Preview Markdown in Colab"
      ],
      "metadata": {
        "id": "UNHTfM9bweTj"
      }
    },
    {
      "cell_type": "code",
      "source": [
        "from IPython.display import display, Markdown\n",
        "\n",
        "def preview_report(path: Path = REPORT_PATH):\n",
        "    \"\"\"Render the saved Markdown report in Colab output.\"\"\"\n",
        "    if not path.exists():\n",
        "        print(\"Report not found:\", path)\n",
        "        return\n",
        "    content = path.read_text(encoding=\"utf-8\")\n",
        "    display(Markdown(content))\n",
        "\n",
        "# Preview the report\n",
        "preview_report(REPORT_PATH)\n"
      ],
      "metadata": {
        "colab": {
          "base_uri": "https://localhost:8080/",
          "height": 1000
        },
        "id": "6xqWBGHSwfD-",
        "outputId": "db068d0a-c1c6-4a1c-9a77-df009248fcde"
      },
      "execution_count": 15,
      "outputs": [
        {
          "output_type": "display_data",
          "data": {
            "text/plain": [
              "<IPython.core.display.Markdown object>"
            ],
            "text/markdown": "# Empathetic Code Review Report\n\n*Generated: 2025-08-14T13:45:33*\n\n\n**Detected Language:** C/C++\n\n\n### Analysis of Comment: \"Consider using a range-based for loop instead of manual indexing.\"\n\n* **Positive Rephrasing:** Your `getActiveUsers` function is already working well!  Using range-based for loops can make your code even more readable and concise, enhancing maintainability and potentially improving performance slightly in some scenarios.\n* **The 'Why':** Range-based for loops provide a more expressive and less error-prone way to iterate over containers like vectors.  They eliminate the need for manual index management, reducing the chance of off-by-one errors or other index-related bugs.  Furthermore, they often lead to cleaner, more idiomatic C++ code, making it easier for others (and your future self) to understand and modify.\n* **Suggested Improvement:**\n```c/c++\n#include <iostream>\n#include <vector>\n\nstruct User {\n    bool isActive;\n    bool profileComplete;\n};\n\nvector<User> getActiveUsers(const vector<User>& users) {\n    vector<User> active;\n    for (const auto& user : users) { // Range-based for loop\n        if (user.isActive && user.profileComplete) { //Simplified condition\n            active.push_back(user);\n        }\n    }\n    return active;\n}\n\nint main() {\n    vector<User> userList = {{true, true}, {false, true}, {true, false}};\n    vector<User> activeUsers = getActiveUsers(userList);\n    cout << \"Active Users: \" << activeUsers.size() << endl;\n    return 0;\n}\n```\n\n\n### Analysis of Comment: \"Avoid explicit comparison with '== true' for boolean values.\"\n\n* **Positive Rephrasing:** Your `getActiveUsers` function is already quite efficient!  A small refinement can make the boolean checks even more concise and readable.\n* **The 'Why':** Directly using boolean variables in conditional statements improves readability and reduces visual clutter.  Explicit comparisons to `true` are redundant because the boolean value itself represents true or false.\n* **Suggested Improvement:**\n```c/c++\n#include <iostream>\n#include <vector>\n\nstruct User {\n    bool isActive;\n    bool profileComplete;\n};\n\nvector<User> getActiveUsers(const vector<User>& users) {\n    vector<User> active;\n    for (const auto& user : users) {\n        if (user.isActive && user.profileComplete) {\n            active.push_back(user);\n        }\n    }\n    return active;\n}\n\nint main() {\n    vector<User> userList = {{true, true}, {false, true}, {true, false}};\n    vector<User> activeUsers = getActiveUsers(userList);\n    cout << \"Active Users: \" << activeUsers.size() << endl;\n    return 0;\n}\n```\n\n\n### Analysis of Comment: \"Use const references where possible to avoid unnecessary copying.\"\n\n* **Positive Rephrasing:** This is a great start to filtering your user data!  To make the function even more efficient and idiomatic C++, we can optimize how we handle the input `users` vector.\n* **The 'Why':** Passing large objects by value (without const reference) creates unnecessary copies, impacting performance, especially when dealing with many users. Using `const` ensures the function doesn't modify the original vector, which is good practice for data integrity and readability.\n* **Suggested Improvement:**\n```c/c++\n#include <iostream>\n#include <vector>\nusing namespace std;\n\nstruct User {\n    bool isActive;\n    bool profileComplete;\n};\n\nvector<User> getActiveUsers(const vector<User>& users) {\n    vector<User> active;\n    for (const auto& user : users) { // Range-based for loop and const reference\n        if (user.isActive && user.profileComplete) { //Simplified boolean expression\n            active.push_back(user); \n        }\n    }\n    return active;\n}\n\nint main() {\n    vector<User> userList = {{true, true}, {false, true}, {true, false}};\n    vector<User> activeUsers = getActiveUsers(userList);\n    cout << \"Active Users: \" << activeUsers.size() << endl;\n    return 0;\n}\n```\n\n\n## Overall Summary\n\n- Addressed **3** comment(s).\n- Detected language: **C/C++**.\n- Code readability and maintainability improved!\n"
          },
          "metadata": {}
        }
      ]
    }
  ]
}